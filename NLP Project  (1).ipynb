{
 "cells": [
  {
   "cell_type": "code",
   "execution_count": 1,
   "id": "2bb3687b",
   "metadata": {},
   "outputs": [],
   "source": [
    "import pandas as pd\n",
    "import nltk \n",
    "from nltk.corpus import stopwords\n",
    "from nltk.tokenize import word_tokenize"
   ]
  },
  {
   "cell_type": "code",
   "execution_count": 2,
   "id": "d91143c8",
   "metadata": {},
   "outputs": [
    {
     "data": {
      "text/html": [
       "<div>\n",
       "<style scoped>\n",
       "    .dataframe tbody tr th:only-of-type {\n",
       "        vertical-align: middle;\n",
       "    }\n",
       "\n",
       "    .dataframe tbody tr th {\n",
       "        vertical-align: top;\n",
       "    }\n",
       "\n",
       "    .dataframe thead th {\n",
       "        text-align: right;\n",
       "    }\n",
       "</style>\n",
       "<table border=\"1\" class=\"dataframe\">\n",
       "  <thead>\n",
       "    <tr style=\"text-align: right;\">\n",
       "      <th></th>\n",
       "      <th>review</th>\n",
       "      <th>sentiment</th>\n",
       "    </tr>\n",
       "  </thead>\n",
       "  <tbody>\n",
       "    <tr>\n",
       "      <th>0</th>\n",
       "      <td>One of the other reviewers has mentioned that ...</td>\n",
       "      <td>positive</td>\n",
       "    </tr>\n",
       "    <tr>\n",
       "      <th>1</th>\n",
       "      <td>A wonderful little production. &lt;br /&gt;&lt;br /&gt;The...</td>\n",
       "      <td>positive</td>\n",
       "    </tr>\n",
       "    <tr>\n",
       "      <th>2</th>\n",
       "      <td>I thought this was a wonderful way to spend ti...</td>\n",
       "      <td>positive</td>\n",
       "    </tr>\n",
       "    <tr>\n",
       "      <th>3</th>\n",
       "      <td>Basically there's a family where a little boy ...</td>\n",
       "      <td>negative</td>\n",
       "    </tr>\n",
       "    <tr>\n",
       "      <th>4</th>\n",
       "      <td>Petter Mattei's \"Love in the Time of Money\" is...</td>\n",
       "      <td>positive</td>\n",
       "    </tr>\n",
       "  </tbody>\n",
       "</table>\n",
       "</div>"
      ],
      "text/plain": [
       "                                              review sentiment\n",
       "0  One of the other reviewers has mentioned that ...  positive\n",
       "1  A wonderful little production. <br /><br />The...  positive\n",
       "2  I thought this was a wonderful way to spend ti...  positive\n",
       "3  Basically there's a family where a little boy ...  negative\n",
       "4  Petter Mattei's \"Love in the Time of Money\" is...  positive"
      ]
     },
     "execution_count": 2,
     "metadata": {},
     "output_type": "execute_result"
    }
   ],
   "source": [
    "df=pd.read_csv('IMDB Dataset.csv')\n",
    "df.head()"
   ]
  },
  {
   "cell_type": "code",
   "execution_count": 80,
   "id": "07b4f2d5",
   "metadata": {},
   "outputs": [
    {
     "data": {
      "text/plain": [
       "review       0\n",
       "sentiment    0\n",
       "dtype: int64"
      ]
     },
     "execution_count": 80,
     "metadata": {},
     "output_type": "execute_result"
    }
   ],
   "source": [
    "df.isnull().sum()"
   ]
  },
  {
   "cell_type": "code",
   "execution_count": 81,
   "id": "45d0b68f",
   "metadata": {},
   "outputs": [
    {
     "data": {
      "text/plain": [
       "positive    25000\n",
       "negative    25000\n",
       "Name: sentiment, dtype: int64"
      ]
     },
     "execution_count": 81,
     "metadata": {},
     "output_type": "execute_result"
    }
   ],
   "source": [
    "df['sentiment'].value_counts()"
   ]
  },
  {
   "cell_type": "code",
   "execution_count": 13,
   "id": "f2def689",
   "metadata": {},
   "outputs": [
    {
     "data": {
      "text/plain": [
       "\"One of the other reviewers has mentioned that after watching just 1 Oz episode you'll be hooked. They are right, as this is exactly what happened with me.<br /><br />The first thing that struck me about Oz was its brutality and unflinching scenes of violence, which set in right from the word GO. Trust me, this is not a show for the faint hearted or timid. This show pulls no punches with regards to drugs, sex or violence. Its is hardcore, in the classic use of the word.<br /><br />It is called OZ as that is the nickname given to the Oswald Maximum Security State Penitentary. It focuses mainly on Emerald City, an experimental section of the prison where all the cells have glass fronts and face inwards, so privacy is not high on the agenda. Em City is home to many..Aryans, Muslims, gangstas, Latinos, Christians, Italians, Irish and more....so scuffles, death stares, dodgy dealings and shady agreements are never far away.<br /><br />I would say the main appeal of the show is due to the fact that it goes where other shows wouldn't dare. Forget pretty pictures painted for mainstream audiences, forget charm, forget romance...OZ doesn't mess around. The first episode I ever saw struck me as so nasty it was surreal, I couldn't say I was ready for it, but as I watched more, I developed a taste for Oz, and got accustomed to the high levels of graphic violence. Not just violence, but injustice (crooked guards who'll be sold out for a nickel, inmates who'll kill on order and get away with it, well mannered, middle class inmates being turned into prison bitches due to their lack of street skills or prison experience) Watching Oz, you may become comfortable with what is uncomfortable viewing....thats if you can get in touch with your darker side.\""
      ]
     },
     "execution_count": 13,
     "metadata": {},
     "output_type": "execute_result"
    }
   ],
   "source": [
    "df['review'] = df['review'].str.replace('character', '')\n",
    "df['review'][0]"
   ]
  },
  {
   "cell_type": "code",
   "execution_count": 14,
   "id": "c767371e",
   "metadata": {},
   "outputs": [
    {
     "data": {
      "text/plain": [
       "\"one of the other reviewers has mentioned that after watching just 1 oz episode you'll be hooked. they are right, as this is exactly what happened with me.<br /><br />the first thing that struck me about oz was its brutality and unflinching scenes of violence, which set in right from the word go. trust me, this is not a show for the faint hearted or timid. this show pulls no punches with regards to drugs, sex or violence. its is hardcore, in the classic use of the word.<br /><br />it is called oz as that is the nickname given to the oswald maximum security state penitentary. it focuses mainly on emerald city, an experimental section of the prison where all the cells have glass fronts and face inwards, so privacy is not high on the agenda. em city is home to many..aryans, muslims, gangstas, latinos, christians, italians, irish and more....so scuffles, death stares, dodgy dealings and shady agreements are never far away.<br /><br />i would say the main appeal of the show is due to the fact that it goes where other shows wouldn't dare. forget pretty pictures painted for mainstream audiences, forget charm, forget romance...oz doesn't mess around. the first episode i ever saw struck me as so nasty it was surreal, i couldn't say i was ready for it, but as i watched more, i developed a taste for oz, and got accustomed to the high levels of graphic violence. not just violence, but injustice (crooked guards who'll be sold out for a nickel, inmates who'll kill on order and get away with it, well mannered, middle class inmates being turned into prison bitches due to their lack of street skills or prison experience) watching oz, you may become comfortable with what is uncomfortable viewing....thats if you can get in touch with your darker side.\""
      ]
     },
     "execution_count": 14,
     "metadata": {},
     "output_type": "execute_result"
    }
   ],
   "source": [
    "#Convert upper case into lower case\n",
    "df['review'] = df['review'].str.lower()\n",
    "df['review'][0]"
   ]
  },
  {
   "cell_type": "code",
   "execution_count": 15,
   "id": "5216f079",
   "metadata": {},
   "outputs": [
    {
     "data": {
      "text/plain": [
       "\"one    reviewers  mentioned   watching  1 oz episode   hooked.   right,    exactly  happened  me.<br /><br />the first thing  struck   oz   brutality  unflinching scenes  violence,  set  right   word go. trust me,     show   faint hearted  timid.  show pulls  punches  regards  drugs, sex  violence.   hardcore,   classic use   word.<br /><br />it  called oz     nickname given   oswald maximum security state penitentary.  focuses mainly  emerald city,  experimental section   prison    cells  glass fronts  face inwards,  privacy   high   agenda. em city  home  many..aryans, muslims, gangstas, latinos, christians, italians, irish  more....so scuffles, death stares, dodgy dealings  shady agreements  never far away.<br /><br />i would say  main appeal   show  due   fact   goes   shows  dare. forget pretty pictures painted  mainstream audiences, forget charm, forget romance...oz  mess around.  first episode  ever saw struck    nasty   surreal,   say   ready  it,    watched more,  developed  taste  oz,  got accustomed   high levels  graphic violence.   violence,  injustice (crooked guards who'll  sold    nickel, inmates who'll kill  order  get away  it, well mannered, middle class inmates  turned  prison bitches due   lack  street skills  prison experience) watching oz,  may become comfortable    uncomfortable viewing....thats    get  touch   darker side.\""
      ]
     },
     "execution_count": 15,
     "metadata": {},
     "output_type": "execute_result"
    }
   ],
   "source": [
    "def remove_stopwords(text):\n",
    "    new_text = []\n",
    "    \n",
    "    for word in text.split():\n",
    "        if word in stopwords.words('english'):\n",
    "            new_text.append('')\n",
    "        else:\n",
    "            new_text.append(word)\n",
    "    x = new_text[:]\n",
    "    new_text.clear()\n",
    "    return \" \".join(x)\n",
    "remove_stopwords(df['review'][0])"
   ]
  },
  {
   "cell_type": "code",
   "execution_count": 94,
   "id": "d2200a63",
   "metadata": {},
   "outputs": [
    {
     "name": "stdout",
     "output_type": "stream",
     "text": [
      "0        [one, of, the, other, reviewers, has, mentione...\n",
      "1        [a, wonderful, little, production, ., <, br, /...\n",
      "2        [i, thought, this, was, a, wonderful, way, to,...\n",
      "3        [basically, there, 's, a, family, where, a, li...\n",
      "4        [petter, mattei, 's, ``, love, in, the, time, ...\n",
      "                               ...                        \n",
      "49995    [i, thought, this, movie, did, a, down, right,...\n",
      "49996    [bad, plot, ,, bad, dialogue, ,, bad, acting, ...\n",
      "49997    [i, am, a, catholic, taught, in, parochial, el...\n",
      "49998    [i, 'm, going, to, have, to, disagree, with, t...\n",
      "49999    [no, one, expects, the, star, trek, movies, to...\n",
      "Name: review, Length: 50000, dtype: object\n"
     ]
    }
   ],
   "source": [
    "import nltk\n",
    "\n",
    "# Tokenize the text in the 'review' column\n",
    "tokens = df['review'].apply(nltk.word_tokenize)\n",
    "\n",
    "# Print the tokens\n",
    "print(tokens)\n"
   ]
  },
  {
   "cell_type": "code",
   "execution_count": 96,
   "id": "edaa2e9b",
   "metadata": {},
   "outputs": [
    {
     "name": "stdout",
     "output_type": "stream",
     "text": [
      "0        [(one, CD), (of, IN), (the, DT), (other, JJ), ...\n",
      "1        [(a, DT), (wonderful, JJ), (little, JJ), (prod...\n",
      "2        [(i, NN), (thought, VBD), (this, DT), (was, VB...\n",
      "3        [(basically, RB), (there, EX), ('s, VBZ), (a, ...\n",
      "4        [(petter, NN), (mattei, NN), ('s, POS), (``, `...\n",
      "                               ...                        \n",
      "49995    [(i, NN), (thought, VBD), (this, DT), (movie, ...\n",
      "49996    [(bad, JJ), (plot, NN), (,, ,), (bad, JJ), (di...\n",
      "49997    [(i, NN), (am, VBP), (a, DT), (catholic, JJ), ...\n",
      "49998    [(i, NN), ('m, VBP), (going, VBG), (to, TO), (...\n",
      "49999    [(no, DT), (one, NN), (expects, VBZ), (the, DT...\n",
      "Name: review, Length: 50000, dtype: object\n"
     ]
    }
   ],
   "source": [
    "\n",
    "# Tokenize the text in the 'review' column\n",
    "tokens = df['review'].apply(nltk.word_tokenize)\n",
    "\n",
    "# Perform POS tagging on the tokens\n",
    "pos_tags = tokens.apply(nltk.pos_tag)\n",
    "\n",
    "# Print the POS tags\n",
    "print(pos_tags)\n"
   ]
  },
  {
   "cell_type": "code",
   "execution_count": 16,
   "id": "25f35b26",
   "metadata": {},
   "outputs": [],
   "source": [
    "#VADER Seniment Scoring\n",
    "from nltk.sentiment import SentimentIntensityAnalyzer\n",
    "from tqdm.notebook import tqdm\n",
    "sia=SentimentIntensityAnalyzer()"
   ]
  },
  {
   "cell_type": "code",
   "execution_count": 18,
   "id": "c36d370b",
   "metadata": {},
   "outputs": [
    {
     "data": {
      "application/vnd.jupyter.widget-view+json": {
       "model_id": "60cb7dceb4d448c5ae22ac1566a5eeb4",
       "version_major": 2,
       "version_minor": 0
      },
      "text/plain": [
       "  0%|          | 0/50000 [00:00<?, ?it/s]"
      ]
     },
     "metadata": {},
     "output_type": "display_data"
    }
   ],
   "source": [
    "#Run the polarity score on the entire dataset\n",
    "res={}\n",
    "\n",
    "for i,row in tqdm(df.iterrows(),total=len(df)):\n",
    "    text=row['review']\n",
    "    \n",
    "    res[text]=sia.polarity_scores(text)"
   ]
  },
  {
   "cell_type": "code",
   "execution_count": 19,
   "id": "aac34e15",
   "metadata": {},
   "outputs": [
    {
     "data": {
      "text/html": [
       "<div>\n",
       "<style scoped>\n",
       "    .dataframe tbody tr th:only-of-type {\n",
       "        vertical-align: middle;\n",
       "    }\n",
       "\n",
       "    .dataframe tbody tr th {\n",
       "        vertical-align: top;\n",
       "    }\n",
       "\n",
       "    .dataframe thead th {\n",
       "        text-align: right;\n",
       "    }\n",
       "</style>\n",
       "<table border=\"1\" class=\"dataframe\">\n",
       "  <thead>\n",
       "    <tr style=\"text-align: right;\">\n",
       "      <th></th>\n",
       "      <th>one of the other reviewers has mentioned that after watching just 1 oz episode you'll be hooked. they are right, as this is exactly what happened with me.&lt;br /&gt;&lt;br /&gt;the first thing that struck me about oz was its brutality and unflinching scenes of violence, which set in right from the word go. trust me, this is not a show for the faint hearted or timid. this show pulls no punches with regards to drugs, sex or violence. its is hardcore, in the classic use of the word.&lt;br /&gt;&lt;br /&gt;it is called oz as that is the nickname given to the oswald maximum security state penitentary. it focuses mainly on emerald city, an experimental section of the prison where all the cells have glass fronts and face inwards, so privacy is not high on the agenda. em city is home to many..aryans, muslims, gangstas, latinos, christians, italians, irish and more....so scuffles, death stares, dodgy dealings and shady agreements are never far away.&lt;br /&gt;&lt;br /&gt;i would say the main appeal of the show is due to the fact that it goes where other shows wouldn't dare. forget pretty pictures painted for mainstream audiences, forget charm, forget romance...oz doesn't mess around. the first episode i ever saw struck me as so nasty it was surreal, i couldn't say i was ready for it, but as i watched more, i developed a taste for oz, and got accustomed to the high levels of graphic violence. not just violence, but injustice (crooked guards who'll be sold out for a nickel, inmates who'll kill on order and get away with it, well mannered, middle class inmates being turned into prison bitches due to their lack of street skills or prison experience) watching oz, you may become comfortable with what is uncomfortable viewing....thats if you can get in touch with your darker side.</th>\n",
       "      <th>a wonderful little production. &lt;br /&gt;&lt;br /&gt;the filming technique is very unassuming- very old-time-bbc fashion and gives a comforting, and sometimes discomforting, sense of realism to the entire piece. &lt;br /&gt;&lt;br /&gt;the actors are extremely well chosen- michael sheen not only \"has got all the polari\" but he has all the voices down pat too! you can truly see the seamless editing guided by the references to williams' diary entries, not only is it well worth the watching but it is a terrificly written and performed piece. a masterful production about one of the great master's of comedy and his life. &lt;br /&gt;&lt;br /&gt;the realism really comes home with the little things: the fantasy of the guard which, rather than use the traditional 'dream' techniques remains solid then disappears. it plays on our knowledge and our senses, particularly with the scenes concerning orton and halliwell and the sets (particularly of their flat with halliwell's murals decorating every surface) are terribly well done.</th>\n",
       "      <th>i thought this was a wonderful way to spend time on a too hot summer weekend, sitting in the air conditioned theater and watching a light-hearted comedy. the plot is simplistic, but the dialogue is witty and the s are likable (even the well bread suspected serial killer). while some may be disappointed when they realize this is not match point 2: risk addiction, i thought it was proof that woody allen is still fully in control of the style many of us have grown to love.&lt;br /&gt;&lt;br /&gt;this was the most i'd laughed at one of woody's comedies in years (dare i say a decade?). while i've never been impressed with scarlet johanson, in this she managed to tone down her \"sexy\" image and jumped right into a average, but spirited young woman.&lt;br /&gt;&lt;br /&gt;this may not be the crown jewel of his career, but it was wittier than \"devil wears prada\" and more interesting than \"superman\" a great comedy to go see with friends.</th>\n",
       "      <th>basically there's a family where a little boy (jake) thinks there's a zombie in his closet &amp; his parents are fighting all the time.&lt;br /&gt;&lt;br /&gt;this movie is slower than a soap opera... and suddenly, jake decides to become rambo and kill the zombie.&lt;br /&gt;&lt;br /&gt;ok, first of all when you're going to make a film you must decide if its a thriller or a drama! as a drama the movie is watchable. parents are divorcing &amp; arguing like in real life. and then we have jake with his closet which totally ruins all the film! i expected to see a boogeyman similar movie, and instead i watched a drama with some meaningless thriller spots.&lt;br /&gt;&lt;br /&gt;3 out of 10 just for the well playing parents &amp; descent dialogs. as for the shots with jake: just ignore them.</th>\n",
       "      <th>petter mattei's \"love in the time of money\" is a visually stunning film to watch. mr. mattei offers us a vivid portrait about human relations. this is a movie that seems to be telling us what money, power and success do to people in the different situations we encounter. &lt;br /&gt;&lt;br /&gt;this being a variation on the arthur schnitzler's play about the same theme, the director transfers the action to the present time new york where all these different s meet and connect. each one is connected in one way, or another to the next person, but no one seems to know the previous point of contact. stylishly, the film has a sophisticated luxurious look. we are taken to see how these people live and the world they live in their own habitat.&lt;br /&gt;&lt;br /&gt;the only thing one gets out of all these souls in the picture is the different stages of loneliness each one inhabits. a big city is not exactly the best place in which human relations find sincere fulfillment, as one discerns is the case with most of the people we encounter.&lt;br /&gt;&lt;br /&gt;the acting is good under mr. mattei's direction. steve buscemi, rosario dawson, carol kane, michael imperioli, adrian grenier, and the rest of the talented cast, make these s come alive.&lt;br /&gt;&lt;br /&gt;we wish mr. mattei good luck and await anxiously for his next work.</th>\n",
       "      <th>probably my all-time favorite movie, a story of selflessness, sacrifice and dedication to a noble cause, but it's not preachy or boring. it just never gets old, despite my having seen it some 15 or more times in the last 25 years. paul lukas' performance brings tears to my eyes, and bette davis, in one of her very few truly sympathetic roles, is a delight. the kids are, as grandma says, more like \"dressed-up midgets\" than children, but that only makes them more fun to watch. and the mother's slow awakening to what's happening in the world and under her own roof is believable and startling. if i had a dozen thumbs, they'd all be \"up\" for this movie.</th>\n",
       "      <th>i sure would like to see a resurrection of a up dated seahunt series with the tech they have today it would bring back the kid excitement in me.i grew up on black and white tv and seahunt with gunsmoke were my hero's every week.you have my vote for a comeback of a new sea hunt.we need a change of pace in tv and this would work for a world of under water adventure.oh by the way thank you for an outlet like this to view many viewpoints about tv and the many movies.so any ole way i believe i've got what i wanna say.would be nice to read some more plus points about sea hunt.if my rhymes would be 10 lines would you let me submit,or leave me out to be in doubt and have me to quit,if this is so then i must go so lets do it.</th>\n",
       "      <th>this show was an amazing, fresh &amp; innovative idea in the 70's when it first aired. the first 7 or 8 years were brilliant, but things dropped off after that. by 1990, the show was not really funny anymore, and it's continued its decline further to the complete waste of time it is today.&lt;br /&gt;&lt;br /&gt;it's truly disgraceful how far this show has fallen. the writing is painfully bad, the performances are almost as bad - if not for the mildly entertaining respite of the guest-hosts, this show probably wouldn't still be on the air. i find it so hard to believe that the same creator that hand-selected the original cast also chose the band of hacks that followed. how can one recognize such brilliance and then see fit to replace it with such mediocrity? i felt i must give 2 stars out of respect for the original cast that made this show such a huge success. as it is now, the show is just awful. i can't believe it's still on the air.</th>\n",
       "      <th>encouraged by the positive comments about this film on here i was looking forward to watching this film. bad mistake. i've seen 950+ films and this is truly one of the worst of them - it's awful in almost every way: editing, pacing, storyline, 'acting,' soundtrack (the film's only song - a lame country tune - is played no less than four times). the film looks cheap and nasty and is boring in the extreme. rarely have i been so happy to see the end credits of a film. &lt;br /&gt;&lt;br /&gt;the only thing that prevents me giving this a 1-score is harvey keitel - while this is far from his best performance he at least seems to be making a bit of an effort. one for keitel obsessives only.</th>\n",
       "      <th>if you like original gut wrenching laughter you will like this movie. if you are young or old then you will love this movie, hell even my mom liked it.&lt;br /&gt;&lt;br /&gt;great camp!!!</th>\n",
       "      <th>...</th>\n",
       "      <th>i got this one a few weeks ago and love it! it's modern, light but filled with true complexities of life. it questions and answers, just like other eytan fox movies. this is my favorite, along with jossi &amp; jagger. this pictures a lot more, universally, than only the bubbles we may live in. you don't need to be jewish or homosexual to enjoy this - i'm not, but the movie goes directly to my top ten movies. at first it seems like pure entertainment but it does make you think further. relationships we have to live with are superficial, meaningful, deep, fatal, you name it. you don't know what's coming, and you definitely don't know where this story is heading as you watch it the first time. it is worth seeing several times. fox movies include great bonus material - here a great music video and \"the making of\" (including explanation of the title, interviewing lior ashknenazi who plays himself in the movie and arabs with doubts about the israeli life styles).</th>\n",
       "      <th>lame, lame, lame!!! a 90-minute cringe-fest that's 89 minutes too long. a setting ripe with atmosphere and possibility (an abandoned convent) is squandered by a stinker of a script filled with clunky, witless dialogue that's straining oh-so-hard to be hip. mostly it's just embarrassing, and the attempts at gonzo horror fall flat (a sample of this movie's dialogue: after demonstrating her artillery, fast dolly shot to a closeup of barbeau's vigilante ",
       "she: `any questions?' hyuck hyuck hyuck). bad acting, idiotic, homophobic jokes and judging from the creature effects, it looks like the director's watched `the evil dead' way too many times. &lt;br /&gt;&lt;br /&gt;i owe my friends big time for renting this turkey and subjecting them to ninety wasted minutes they'll never get back. what a turd.</th>\n",
       "      <th>john garfield plays a marine who is blinded by a grenade while fighting on guadalcanal and who has to learn to live with his disability. he has all the stereotypical notions about blindness, and is sure he'll be a burden to everyone. the hospital staff and his fellow wounded marines can't get through to him. neither can his girl back home played by eleanor parker. he's stubborn and blinded by his own fears, self pity, and prejudices. it's a complex role that garfield carries off memorably in a great performance that keeps one watching in spite of the ever present syrupy melodrama. the best scenes are on guadalcanal, where he's in a machine gun nest trying to fend off the advancing japanese soldiers in a hellish looking night time battle, and later a dream sequence in the hospital where he sees himself walking down a train platform with a white cane, dark glasses, and holding out a tin cup, all the while his girlfriend walks backward away from the camera.</th>\n",
       "      <th>robert colomb has two full-time jobs. he's known throughout the world as a globetrotting tv reporter. less well-known but equally effortful are his exploits as a full-time philanderer.&lt;br /&gt;&lt;br /&gt;i saw `vivre pour vivre' dubbed in english with the title 'live for life.' some life! robert seems to always have at least three women in his life: one mistress on her way out, one on her way in, and the cheated wife at home. it helps that robert is a glib liar. among his most useful lies are `i'll call you tomorrow' and `my work took longer than planned.' he spends a lot of time and money on planes, trains and hotel rooms for his succession of liaisons. you wonder when this guy will get caught with his pants down.&lt;br /&gt;&lt;br /&gt;some may find his life exciting, but i thought it to be tedious. his companions, including his wife, catherine, are all attractive and desirable women. but his lifestyle is so hectic and he is so deceitful, you wonder if he's enjoying all this.&lt;br /&gt;&lt;br /&gt;adding to the tedium is considerable footage that doesn't further the plot. there are extended sections with no dialogue or french-only dialogue. we see documentaries of wars, torture, and troop training interspersed with the live action. when robert's flight returns from africa, we wait and wait for the plane to land and taxi to the airport terminal.&lt;br /&gt;&lt;br /&gt;annie girardot is the standout performer in this film. hers was the most interesting  and she played it to perfection. it was also nice to see candice bergen at the beginning of her career. i can't find fault with yves montand's performance of what was basically an amoral bum.&lt;br /&gt;&lt;br /&gt;i enjoyed some of claude lelouch's novel techniques. in a hotel room scene, the camera pans around the room as robert and his mistress argue. we catch sight of them briefly during each pass around the room. in another scene set on a sleeping car of a train, robert is lying on the upper bunk while his wife is on the lower. robert is giving his wife some important but distressing news, but we hear only parts of it because of the clatter of the train. i sensed that his wife was also unable to absorb every word due to the shocking nature of the news. i also liked the exciting safari scenes in africa. the cinematography of those scenes and of those in amsterdam was superb.&lt;br /&gt;&lt;br /&gt;i reviewed this movie as part of a project at the library of congress. i've named the project fifty: 50 notable films forgotten within 50 years. as best i can determine, this film, like the other forty-nine i've identified, has not been on video, telecast, or distributed in the u.s. since its original release. in my opinion, it is worthy of being made available again.&lt;br /&gt;&lt;br /&gt;</th>\n",
       "      <th>this is your typical junk comedy.&lt;br /&gt;&lt;br /&gt;there are almost no laughs. no genuine moments. no memorable lines. no scenes where you think to yourself, \"that was clever\". nothing. the plot is embarrassingly bad. &lt;br /&gt;&lt;br /&gt;it's ugly to look at and boring as hell! there is no substance here. this movie has nothing. it doesn't matter if farely was in this or not. a crap movie is a crap movie no matter who's involved. &lt;br /&gt;&lt;br /&gt;also, david spade is a terribly unfunny comedian who plays the same lousy  in ever movie/tv show that he's in.&lt;br /&gt;&lt;br /&gt;this movie was dead on arrival. there is no life here. no fun. no intelligence. there are plenty of other \"dumb\" comedies more enjoyable that this one. this film is just pathetic. &lt;br /&gt;&lt;br /&gt;2/10</th>\n",
       "      <th>i thought this movie did a down right good job. it wasn't as creative or original as the first, but who was expecting it to be. it was a whole lotta fun. the more i think about it the more i like it, and when it comes out on dvd i'm going to pay the money for it very proudly, every last cent. sharon stone is great, she always is, even if her movie is horrible(catwoman), but this movie isn't, this is one of those movies that will be underrated for its lifetime, and it will probably become a classic in like 20 yrs. don't wait for it to be a classic, watch it now and enjoy it. don't expect a masterpiece, or something thats gripping and soul touching, just allow yourself to get out of your life and get yourself involved in theirs.&lt;br /&gt;&lt;br /&gt;all in all, this movie is entertaining and i recommend people who haven't seen it see it, because what the critics and box office say doesn't always count, see it for yourself, you never know, you might just enjoy it. i tip my hat to this movie&lt;br /&gt;&lt;br /&gt;8/10</th>\n",
       "      <th>bad plot, bad dialogue, bad acting, idiotic directing, the annoying porn groove soundtrack that ran continually over the overacted script, and a crappy copy of the vhs cannot be redeemed by consuming liquor. trust me, because i stuck this turkey out to the end. it was so pathetically bad all over that i had to figure it was a fourth-rate spoof of springtime for hitler.&lt;br /&gt;&lt;br /&gt;the girl who played janis joplin was the only faint spark of interest, and that was only because she could sing better than the original.&lt;br /&gt;&lt;br /&gt;if you want to watch something similar but a thousand times better, then watch beyond the valley of the dolls.</th>\n",
       "      <th>i am a catholic taught in parochial elementary schools by nuns, taught by jesuit priests in high school &amp; college. i am still a practicing catholic but would not be considered a \"good catholic\" in the church's eyes because i don't believe certain things or act certain ways just because the church tells me to.&lt;br /&gt;&lt;br /&gt;so back to the movie...its bad because two people are killed by this nun who is supposed to be a satire as the embodiment of a female religious figurehead. there is no comedy in that and the satire is not done well by the over acting of diane keaton. i never saw the play but if it was very different from this movies then it may be good.&lt;br /&gt;&lt;br /&gt;at first i thought the gun might be a fake and the first shooting all a plan by the female lead of the four former students as an attempt to demonstrate sister mary's emotional and intellectual bigotry of faith. but it turns out the bullets were real and the story has tragedy...the tragedy of loss of life (besides the two former students...the lives of the aborted babies, the life of the student's mom), the tragedy of dogmatic authority over love of people, the tragedy of organized religion replacing true faith in god. this is what is wrong with today's islam, and yesterday's judaism and christianity.</th>\n",
       "      <th>i'm going to have to disagree with the previous comment and side with maltin on this one. this is a second rate, excessively vicious western that creaks and groans trying to put across its central theme of the wild west being tamed and kicked aside by the steady march of time. it would like to be in the tradition of \"butch cassidy and the sundance kid\", but lacks that film's poignancy and charm. andrew mclaglen's direction is limp, and the final 30 minutes or so are a real botch, with some incomprehensible strategy on the part of heroes charlton heston and chris mitchum. (someone give me a holler if you can explain to me why they set that hillside on fire.) there was something callous about the whole treatment of the rape scene, and the woman's reaction afterwards certainly did not ring true. coburn is plenty nasty as the half breed escaped convict out for revenge, but all of his fellow escapees are underdeveloped (they're like bowling pins to be knocked down one by one as the story lurches forward). michael parks gives one of his typically shifty, lethargic, mumbling performances, but in this case it was appropriate as his modern style sheriff symbolizes the complacency that technological progress can bring about.</th>\n",
       "      <th>no one expects the star trek movies to be high art, but the fans do expect a movie that is as good as some of the best episodes. unfortunately, this movie had a muddled, implausible plot that just left me cringing - this is by far the worst of the nine (so far) movies. even the chance to watch the well known s interact in another movie can't save this movie - including the goofy scenes with kirk, spock and mccoy at yosemite.&lt;br /&gt;&lt;br /&gt;i would say this movie is not worth a rental, and hardly worth watching, however for the true fan who needs to see all the movies, renting this movie is about the only way you'll see it - even the cable channels avoid this movie.</th>\n",
       "    </tr>\n",
       "  </thead>\n",
       "  <tbody>\n",
       "    <tr>\n",
       "      <th>neg</th>\n",
       "      <td>0.1950</td>\n",
       "      <td>0.0530</td>\n",
       "      <td>0.0950</td>\n",
       "      <td>0.1380</td>\n",
       "      <td>0.0520</td>\n",
       "      <td>0.0170</td>\n",
       "      <td>0.0240</td>\n",
       "      <td>0.1490</td>\n",
       "      <td>0.1660</td>\n",
       "      <td>0.0940</td>\n",
       "      <td>...</td>\n",
       "      <td>0.0360</td>\n",
       "      <td>0.273</td>\n",
       "      <td>0.1510</td>\n",
       "      <td>0.1020</td>\n",
       "      <td>0.2780</td>\n",
       "      <td>0.047</td>\n",
       "      <td>0.1660</td>\n",
       "      <td>0.2080</td>\n",
       "      <td>0.1050</td>\n",
       "      <td>0.1360</td>\n",
       "    </tr>\n",
       "    <tr>\n",
       "      <th>neu</th>\n",
       "      <td>0.7490</td>\n",
       "      <td>0.7760</td>\n",
       "      <td>0.7120</td>\n",
       "      <td>0.7970</td>\n",
       "      <td>0.8000</td>\n",
       "      <td>0.7580</td>\n",
       "      <td>0.8710</td>\n",
       "      <td>0.6540</td>\n",
       "      <td>0.6620</td>\n",
       "      <td>0.5310</td>\n",
       "      <td>...</td>\n",
       "      <td>0.7050</td>\n",
       "      <td>0.678</td>\n",
       "      <td>0.7590</td>\n",
       "      <td>0.7550</td>\n",
       "      <td>0.5730</td>\n",
       "      <td>0.753</td>\n",
       "      <td>0.7200</td>\n",
       "      <td>0.6830</td>\n",
       "      <td>0.8130</td>\n",
       "      <td>0.7220</td>\n",
       "    </tr>\n",
       "    <tr>\n",
       "      <th>pos</th>\n",
       "      <td>0.0560</td>\n",
       "      <td>0.1720</td>\n",
       "      <td>0.1930</td>\n",
       "      <td>0.0650</td>\n",
       "      <td>0.1480</td>\n",
       "      <td>0.2250</td>\n",
       "      <td>0.1040</td>\n",
       "      <td>0.1970</td>\n",
       "      <td>0.1720</td>\n",
       "      <td>0.3750</td>\n",
       "      <td>...</td>\n",
       "      <td>0.2590</td>\n",
       "      <td>0.049</td>\n",
       "      <td>0.0900</td>\n",
       "      <td>0.1430</td>\n",
       "      <td>0.1490</td>\n",
       "      <td>0.199</td>\n",
       "      <td>0.1140</td>\n",
       "      <td>0.1080</td>\n",
       "      <td>0.0820</td>\n",
       "      <td>0.1420</td>\n",
       "    </tr>\n",
       "    <tr>\n",
       "      <th>compound</th>\n",
       "      <td>-0.9947</td>\n",
       "      <td>0.9641</td>\n",
       "      <td>0.9605</td>\n",
       "      <td>-0.9213</td>\n",
       "      <td>0.9744</td>\n",
       "      <td>0.9828</td>\n",
       "      <td>0.9022</td>\n",
       "      <td>0.8596</td>\n",
       "      <td>0.2362</td>\n",
       "      <td>0.9149</td>\n",
       "      <td>...</td>\n",
       "      <td>0.9936</td>\n",
       "      <td>-0.988</td>\n",
       "      <td>-0.8885</td>\n",
       "      <td>0.9736</td>\n",
       "      <td>-0.9708</td>\n",
       "      <td>0.989</td>\n",
       "      <td>-0.6693</td>\n",
       "      <td>-0.9851</td>\n",
       "      <td>-0.7648</td>\n",
       "      <td>0.4329</td>\n",
       "    </tr>\n",
       "  </tbody>\n",
       "</table>\n",
       "<p>4 rows × 49582 columns</p>\n",
       "</div>"
      ],
      "text/plain": [
       "          one of the other reviewers has mentioned that after watching just 1 oz episode you'll be hooked. they are right, as this is exactly what happened with me.<br /><br />the first thing that struck me about oz was its brutality and unflinching scenes of violence, which set in right from the word go. trust me, this is not a show for the faint hearted or timid. this show pulls no punches with regards to drugs, sex or violence. its is hardcore, in the classic use of the word.<br /><br />it is called oz as that is the nickname given to the oswald maximum security state penitentary. it focuses mainly on emerald city, an experimental section of the prison where all the cells have glass fronts and face inwards, so privacy is not high on the agenda. em city is home to many..aryans, muslims, gangstas, latinos, christians, italians, irish and more....so scuffles, death stares, dodgy dealings and shady agreements are never far away.<br /><br />i would say the main appeal of the show is due to the fact that it goes where other shows wouldn't dare. forget pretty pictures painted for mainstream audiences, forget charm, forget romance...oz doesn't mess around. the first episode i ever saw struck me as so nasty it was surreal, i couldn't say i was ready for it, but as i watched more, i developed a taste for oz, and got accustomed to the high levels of graphic violence. not just violence, but injustice (crooked guards who'll be sold out for a nickel, inmates who'll kill on order and get away with it, well mannered, middle class inmates being turned into prison bitches due to their lack of street skills or prison experience) watching oz, you may become comfortable with what is uncomfortable viewing....thats if you can get in touch with your darker side.  \\\n",
       "neg                                                  0.1950                                                                                                                                                                                                                                                                                                                                                                                                                                                                                                                                                                                                                                                                                                                                                                                                                                                                                                                                                                                                                                                                                                                                                                                                                                                                                                                                                                                                                                                                                                                                                                                                                                                                                                                                                                                   \n",
       "neu                                                  0.7490                                                                                                                                                                                                                                                                                                                                                                                                                                                                                                                                                                                                                                                                                                                                                                                                                                                                                                                                                                                                                                                                                                                                                                                                                                                                                                                                                                                                                                                                                                                                                                                                                                                                                                                                                                                   \n",
       "pos                                                  0.0560                                                                                                                                                                                                                                                                                                                                                                                                                                                                                                                                                                                                                                                                                                                                                                                                                                                                                                                                                                                                                                                                                                                                                                                                                                                                                                                                                                                                                                                                                                                                                                                                                                                                                                                                                                                   \n",
       "compound                                            -0.9947                                                                                                                                                                                                                                                                                                                                                                                                                                                                                                                                                                                                                                                                                                                                                                                                                                                                                                                                                                                                                                                                                                                                                                                                                                                                                                                                                                                                                                                                                                                                                                                                                                                                                                                                                                                   \n",
       "\n",
       "          a wonderful little production. <br /><br />the filming technique is very unassuming- very old-time-bbc fashion and gives a comforting, and sometimes discomforting, sense of realism to the entire piece. <br /><br />the actors are extremely well chosen- michael sheen not only \"has got all the polari\" but he has all the voices down pat too! you can truly see the seamless editing guided by the references to williams' diary entries, not only is it well worth the watching but it is a terrificly written and performed piece. a masterful production about one of the great master's of comedy and his life. <br /><br />the realism really comes home with the little things: the fantasy of the guard which, rather than use the traditional 'dream' techniques remains solid then disappears. it plays on our knowledge and our senses, particularly with the scenes concerning orton and halliwell and the sets (particularly of their flat with halliwell's murals decorating every surface) are terribly well done.  \\\n",
       "neg                                                  0.0530                                                                                                                                                                                                                                                                                                                                                                                                                                                                                                                                                                                                                                                                                                                                                                                                                                                                                                                                                                                        \n",
       "neu                                                  0.7760                                                                                                                                                                                                                                                                                                                                                                                                                                                                                                                                                                                                                                                                                                                                                                                                                                                                                                                                                                                        \n",
       "pos                                                  0.1720                                                                                                                                                                                                                                                                                                                                                                                                                                                                                                                                                                                                                                                                                                                                                                                                                                                                                                                                                                                        \n",
       "compound                                             0.9641                                                                                                                                                                                                                                                                                                                                                                                                                                                                                                                                                                                                                                                                                                                                                                                                                                                                                                                                                                                        \n",
       "\n",
       "          i thought this was a wonderful way to spend time on a too hot summer weekend, sitting in the air conditioned theater and watching a light-hearted comedy. the plot is simplistic, but the dialogue is witty and the s are likable (even the well bread suspected serial killer). while some may be disappointed when they realize this is not match point 2: risk addiction, i thought it was proof that woody allen is still fully in control of the style many of us have grown to love.<br /><br />this was the most i'd laughed at one of woody's comedies in years (dare i say a decade?). while i've never been impressed with scarlet johanson, in this she managed to tone down her \"sexy\" image and jumped right into a average, but spirited young woman.<br /><br />this may not be the crown jewel of his career, but it was wittier than \"devil wears prada\" and more interesting than \"superman\" a great comedy to go see with friends.  \\\n",
       "neg                                                  0.0950                                                                                                                                                                                                                                                                                                                                                                                                                                                                                                                                                                                                                                                                                                                                                                                                                                                                                                       \n",
       "neu                                                  0.7120                                                                                                                                                                                                                                                                                                                                                                                                                                                                                                                                                                                                                                                                                                                                                                                                                                                                                                       \n",
       "pos                                                  0.1930                                                                                                                                                                                                                                                                                                                                                                                                                                                                                                                                                                                                                                                                                                                                                                                                                                                                                                       \n",
       "compound                                             0.9605                                                                                                                                                                                                                                                                                                                                                                                                                                                                                                                                                                                                                                                                                                                                                                                                                                                                                                       \n",
       "\n",
       "          basically there's a family where a little boy (jake) thinks there's a zombie in his closet & his parents are fighting all the time.<br /><br />this movie is slower than a soap opera... and suddenly, jake decides to become rambo and kill the zombie.<br /><br />ok, first of all when you're going to make a film you must decide if its a thriller or a drama! as a drama the movie is watchable. parents are divorcing & arguing like in real life. and then we have jake with his closet which totally ruins all the film! i expected to see a boogeyman similar movie, and instead i watched a drama with some meaningless thriller spots.<br /><br />3 out of 10 just for the well playing parents & descent dialogs. as for the shots with jake: just ignore them.  \\\n",
       "neg                                                  0.1380                                                                                                                                                                                                                                                                                                                                                                                                                                                                                                                                                                                                                                                                                                                              \n",
       "neu                                                  0.7970                                                                                                                                                                                                                                                                                                                                                                                                                                                                                                                                                                                                                                                                                                                              \n",
       "pos                                                  0.0650                                                                                                                                                                                                                                                                                                                                                                                                                                                                                                                                                                                                                                                                                                                              \n",
       "compound                                            -0.9213                                                                                                                                                                                                                                                                                                                                                                                                                                                                                                                                                                                                                                                                                                                              \n",
       "\n",
       "          petter mattei's \"love in the time of money\" is a visually stunning film to watch. mr. mattei offers us a vivid portrait about human relations. this is a movie that seems to be telling us what money, power and success do to people in the different situations we encounter. <br /><br />this being a variation on the arthur schnitzler's play about the same theme, the director transfers the action to the present time new york where all these different s meet and connect. each one is connected in one way, or another to the next person, but no one seems to know the previous point of contact. stylishly, the film has a sophisticated luxurious look. we are taken to see how these people live and the world they live in their own habitat.<br /><br />the only thing one gets out of all these souls in the picture is the different stages of loneliness each one inhabits. a big city is not exactly the best place in which human relations find sincere fulfillment, as one discerns is the case with most of the people we encounter.<br /><br />the acting is good under mr. mattei's direction. steve buscemi, rosario dawson, carol kane, michael imperioli, adrian grenier, and the rest of the talented cast, make these s come alive.<br /><br />we wish mr. mattei good luck and await anxiously for his next work.  \\\n",
       "neg                                                  0.0520                                                                                                                                                                                                                                                                                                                                                                                                                                                                                                                                                                                                                                                                                                                                                                                                                                                                                                                                                                                                                                                                                                                                                                                                                                                                                                     \n",
       "neu                                                  0.8000                                                                                                                                                                                                                                                                                                                                                                                                                                                                                                                                                                                                                                                                                                                                                                                                                                                                                                                                                                                                                                                                                                                                                                                                                                                                                                     \n",
       "pos                                                  0.1480                                                                                                                                                                                                                                                                                                                                                                                                                                                                                                                                                                                                                                                                                                                                                                                                                                                                                                                                                                                                                                                                                                                                                                                                                                                                                                     \n",
       "compound                                             0.9744                                                                                                                                                                                                                                                                                                                                                                                                                                                                                                                                                                                                                                                                                                                                                                                                                                                                                                                                                                                                                                                                                                                                                                                                                                                                                                     \n",
       "\n",
       "          probably my all-time favorite movie, a story of selflessness, sacrifice and dedication to a noble cause, but it's not preachy or boring. it just never gets old, despite my having seen it some 15 or more times in the last 25 years. paul lukas' performance brings tears to my eyes, and bette davis, in one of her very few truly sympathetic roles, is a delight. the kids are, as grandma says, more like \"dressed-up midgets\" than children, but that only makes them more fun to watch. and the mother's slow awakening to what's happening in the world and under her own roof is believable and startling. if i had a dozen thumbs, they'd all be \"up\" for this movie.  \\\n",
       "neg                                                  0.0170                                                                                                                                                                                                                                                                                                                                                                                                                                                                                                                                                                                                                                  \n",
       "neu                                                  0.7580                                                                                                                                                                                                                                                                                                                                                                                                                                                                                                                                                                                                                                  \n",
       "pos                                                  0.2250                                                                                                                                                                                                                                                                                                                                                                                                                                                                                                                                                                                                                                  \n",
       "compound                                             0.9828                                                                                                                                                                                                                                                                                                                                                                                                                                                                                                                                                                                                                                  \n",
       "\n",
       "          i sure would like to see a resurrection of a up dated seahunt series with the tech they have today it would bring back the kid excitement in me.i grew up on black and white tv and seahunt with gunsmoke were my hero's every week.you have my vote for a comeback of a new sea hunt.we need a change of pace in tv and this would work for a world of under water adventure.oh by the way thank you for an outlet like this to view many viewpoints about tv and the many movies.so any ole way i believe i've got what i wanna say.would be nice to read some more plus points about sea hunt.if my rhymes would be 10 lines would you let me submit,or leave me out to be in doubt and have me to quit,if this is so then i must go so lets do it.  \\\n",
       "neg                                                  0.0240                                                                                                                                                                                                                                                                                                                                                                                                                                                                                                                                                                                                                                                                                                        \n",
       "neu                                                  0.8710                                                                                                                                                                                                                                                                                                                                                                                                                                                                                                                                                                                                                                                                                                        \n",
       "pos                                                  0.1040                                                                                                                                                                                                                                                                                                                                                                                                                                                                                                                                                                                                                                                                                                        \n",
       "compound                                             0.9022                                                                                                                                                                                                                                                                                                                                                                                                                                                                                                                                                                                                                                                                                                        \n",
       "\n",
       "          this show was an amazing, fresh & innovative idea in the 70's when it first aired. the first 7 or 8 years were brilliant, but things dropped off after that. by 1990, the show was not really funny anymore, and it's continued its decline further to the complete waste of time it is today.<br /><br />it's truly disgraceful how far this show has fallen. the writing is painfully bad, the performances are almost as bad - if not for the mildly entertaining respite of the guest-hosts, this show probably wouldn't still be on the air. i find it so hard to believe that the same creator that hand-selected the original cast also chose the band of hacks that followed. how can one recognize such brilliance and then see fit to replace it with such mediocrity? i felt i must give 2 stars out of respect for the original cast that made this show such a huge success. as it is now, the show is just awful. i can't believe it's still on the air.  \\\n",
       "neg                                                  0.1490                                                                                                                                                                                                                                                                                                                                                                                                                                                                                                                                                                                                                                                                                                                                                                                                                                                                                                                        \n",
       "neu                                                  0.6540                                                                                                                                                                                                                                                                                                                                                                                                                                                                                                                                                                                                                                                                                                                                                                                                                                                                                                                        \n",
       "pos                                                  0.1970                                                                                                                                                                                                                                                                                                                                                                                                                                                                                                                                                                                                                                                                                                                                                                                                                                                                                                                        \n",
       "compound                                             0.8596                                                                                                                                                                                                                                                                                                                                                                                                                                                                                                                                                                                                                                                                                                                                                                                                                                                                                                                        \n",
       "\n",
       "          encouraged by the positive comments about this film on here i was looking forward to watching this film. bad mistake. i've seen 950+ films and this is truly one of the worst of them - it's awful in almost every way: editing, pacing, storyline, 'acting,' soundtrack (the film's only song - a lame country tune - is played no less than four times). the film looks cheap and nasty and is boring in the extreme. rarely have i been so happy to see the end credits of a film. <br /><br />the only thing that prevents me giving this a 1-score is harvey keitel - while this is far from his best performance he at least seems to be making a bit of an effort. one for keitel obsessives only.  \\\n",
       "neg                                                  0.1660                                                                                                                                                                                                                                                                                                                                                                                                                                                                                                                                                                                                                                                           \n",
       "neu                                                  0.6620                                                                                                                                                                                                                                                                                                                                                                                                                                                                                                                                                                                                                                                           \n",
       "pos                                                  0.1720                                                                                                                                                                                                                                                                                                                                                                                                                                                                                                                                                                                                                                                           \n",
       "compound                                             0.2362                                                                                                                                                                                                                                                                                                                                                                                                                                                                                                                                                                                                                                                           \n",
       "\n",
       "          if you like original gut wrenching laughter you will like this movie. if you are young or old then you will love this movie, hell even my mom liked it.<br /><br />great camp!!!  \\\n",
       "neg                                                  0.0940                                                                                                                                  \n",
       "neu                                                  0.5310                                                                                                                                  \n",
       "pos                                                  0.3750                                                                                                                                  \n",
       "compound                                             0.9149                                                                                                                                  \n",
       "\n",
       "          ...  \\\n",
       "neg       ...   \n",
       "neu       ...   \n",
       "pos       ...   \n",
       "compound  ...   \n",
       "\n",
       "          i got this one a few weeks ago and love it! it's modern, light but filled with true complexities of life. it questions and answers, just like other eytan fox movies. this is my favorite, along with jossi & jagger. this pictures a lot more, universally, than only the bubbles we may live in. you don't need to be jewish or homosexual to enjoy this - i'm not, but the movie goes directly to my top ten movies. at first it seems like pure entertainment but it does make you think further. relationships we have to live with are superficial, meaningful, deep, fatal, you name it. you don't know what's coming, and you definitely don't know where this story is heading as you watch it the first time. it is worth seeing several times. fox movies include great bonus material - here a great music video and \"the making of\" (including explanation of the title, interviewing lior ashknenazi who plays himself in the movie and arabs with doubts about the israeli life styles).  \\\n",
       "neg                                                  0.0360                                                                                                                                                                                                                                                                                                                                                                                                                                                                                                                                                                                                                                                                                                                                                                                                                                                                                                                                                         \n",
       "neu                                                  0.7050                                                                                                                                                                                                                                                                                                                                                                                                                                                                                                                                                                                                                                                                                                                                                                                                                                                                                                                                                         \n",
       "pos                                                  0.2590                                                                                                                                                                                                                                                                                                                                                                                                                                                                                                                                                                                                                                                                                                                                                                                                                                                                                                                                                         \n",
       "compound                                             0.9936                                                                                                                                                                                                                                                                                                                                                                                                                                                                                                                                                                                                                                                                                                                                                                                                                                                                                                                                                         \n",
       "\n",
       "          lame, lame, lame!!! a 90-minute cringe-fest that's 89 minutes too long. a setting ripe with atmosphere and possibility (an abandoned convent) is squandered by a stinker of a script filled with clunky, witless dialogue that's straining oh-so-hard to be hip. mostly it's just embarrassing, and the attempts at gonzo horror fall flat (a sample of this movie's dialogue: after demonstrating her artillery, fast dolly shot to a closeup of barbeau's vigilante \n",
       "she: `any questions?' hyuck hyuck hyuck). bad acting, idiotic, homophobic jokes and judging from the creature effects, it looks like the director's watched `the evil dead' way too many times. <br /><br />i owe my friends big time for renting this turkey and subjecting them to ninety wasted minutes they'll never get back. what a turd.  \\\n",
       "neg                                                   0.273                                                                                                                                                                                                                                                                                                                                                                                                                                                                                                                                                                                                                                                                                                                                                                        \n",
       "neu                                                   0.678                                                                                                                                                                                                                                                                                                                                                                                                                                                                                                                                                                                                                                                                                                                                                                        \n",
       "pos                                                   0.049                                                                                                                                                                                                                                                                                                                                                                                                                                                                                                                                                                                                                                                                                                                                                                        \n",
       "compound                                             -0.988                                                                                                                                                                                                                                                                                                                                                                                                                                                                                                                                                                                                                                                                                                                                                                        \n",
       "\n",
       "          john garfield plays a marine who is blinded by a grenade while fighting on guadalcanal and who has to learn to live with his disability. he has all the stereotypical notions about blindness, and is sure he'll be a burden to everyone. the hospital staff and his fellow wounded marines can't get through to him. neither can his girl back home played by eleanor parker. he's stubborn and blinded by his own fears, self pity, and prejudices. it's a complex role that garfield carries off memorably in a great performance that keeps one watching in spite of the ever present syrupy melodrama. the best scenes are on guadalcanal, where he's in a machine gun nest trying to fend off the advancing japanese soldiers in a hellish looking night time battle, and later a dream sequence in the hospital where he sees himself walking down a train platform with a white cane, dark glasses, and holding out a tin cup, all the while his girlfriend walks backward away from the camera.  \\\n",
       "neg                                                  0.1510                                                                                                                                                                                                                                                                                                                                                                                                                                                                                                                                                                                                                                                                                                                                                                                                                                                                                                                                                          \n",
       "neu                                                  0.7590                                                                                                                                                                                                                                                                                                                                                                                                                                                                                                                                                                                                                                                                                                                                                                                                                                                                                                                                                          \n",
       "pos                                                  0.0900                                                                                                                                                                                                                                                                                                                                                                                                                                                                                                                                                                                                                                                                                                                                                                                                                                                                                                                                                          \n",
       "compound                                            -0.8885                                                                                                                                                                                                                                                                                                                                                                                                                                                                                                                                                                                                                                                                                                                                                                                                                                                                                                                                                          \n",
       "\n",
       "          robert colomb has two full-time jobs. he's known throughout the world as a globetrotting tv reporter. less well-known but equally effortful are his exploits as a full-time philanderer.<br /><br />i saw `vivre pour vivre' dubbed in english with the title 'live for life.' some life! robert seems to always have at least three women in his life: one mistress on her way out, one on her way in, and the cheated wife at home. it helps that robert is a glib liar. among his most useful lies are `i'll call you tomorrow' and `my work took longer than planned.' he spends a lot of time and money on planes, trains and hotel rooms for his succession of liaisons. you wonder when this guy will get caught with his pants down.<br /><br />some may find his life exciting, but i thought it to be tedious. his companions, including his wife, catherine, are all attractive and desirable women. but his lifestyle is so hectic and he is so deceitful, you wonder if he's enjoying all this.<br /><br />adding to the tedium is considerable footage that doesn't further the plot. there are extended sections with no dialogue or french-only dialogue. we see documentaries of wars, torture, and troop training interspersed with the live action. when robert's flight returns from africa, we wait and wait for the plane to land and taxi to the airport terminal.<br /><br />annie girardot is the standout performer in this film. hers was the most interesting  and she played it to perfection. it was also nice to see candice bergen at the beginning of her career. i can't find fault with yves montand's performance of what was basically an amoral bum.<br /><br />i enjoyed some of claude lelouch's novel techniques. in a hotel room scene, the camera pans around the room as robert and his mistress argue. we catch sight of them briefly during each pass around the room. in another scene set on a sleeping car of a train, robert is lying on the upper bunk while his wife is on the lower. robert is giving his wife some important but distressing news, but we hear only parts of it because of the clatter of the train. i sensed that his wife was also unable to absorb every word due to the shocking nature of the news. i also liked the exciting safari scenes in africa. the cinematography of those scenes and of those in amsterdam was superb.<br /><br />i reviewed this movie as part of a project at the library of congress. i've named the project fifty: 50 notable films forgotten within 50 years. as best i can determine, this film, like the other forty-nine i've identified, has not been on video, telecast, or distributed in the u.s. since its original release. in my opinion, it is worthy of being made available again.<br /><br />  \\\n",
       "neg                                                  0.1020                                                                                                                                                                                                                                                                                                                                                                                                                                                                                                                                                                                                                                                                                                                                                                                                                                                                                                                                                                                                                                                                                                                                                                                                                                                                                                                                                                                                                                                                                                                                                                                                                                                                                                                                                                                                                                                                                                                                                                                                                                                                                                                                                                                                                                                                                                                                                                                                                                                                                                                                                                                                                                                                                                                                                                      \n",
       "neu                                                  0.7550                                                                                                                                                                                                                                                                                                                                                                                                                                                                                                                                                                                                                                                                                                                                                                                                                                                                                                                                                                                                                                                                                                                                                                                                                                                                                                                                                                                                                                                                                                                                                                                                                                                                                                                                                                                                                                                                                                                                                                                                                                                                                                                                                                                                                                                                                                                                                                                                                                                                                                                                                                                                                                                                                                                                                                      \n",
       "pos                                                  0.1430                                                                                                                                                                                                                                                                                                                                                                                                                                                                                                                                                                                                                                                                                                                                                                                                                                                                                                                                                                                                                                                                                                                                                                                                                                                                                                                                                                                                                                                                                                                                                                                                                                                                                                                                                                                                                                                                                                                                                                                                                                                                                                                                                                                                                                                                                                                                                                                                                                                                                                                                                                                                                                                                                                                                                                      \n",
       "compound                                             0.9736                                                                                                                                                                                                                                                                                                                                                                                                                                                                                                                                                                                                                                                                                                                                                                                                                                                                                                                                                                                                                                                                                                                                                                                                                                                                                                                                                                                                                                                                                                                                                                                                                                                                                                                                                                                                                                                                                                                                                                                                                                                                                                                                                                                                                                                                                                                                                                                                                                                                                                                                                                                                                                                                                                                                                                      \n",
       "\n",
       "          this is your typical junk comedy.<br /><br />there are almost no laughs. no genuine moments. no memorable lines. no scenes where you think to yourself, \"that was clever\". nothing. the plot is embarrassingly bad. <br /><br />it's ugly to look at and boring as hell! there is no substance here. this movie has nothing. it doesn't matter if farely was in this or not. a crap movie is a crap movie no matter who's involved. <br /><br />also, david spade is a terribly unfunny comedian who plays the same lousy  in ever movie/tv show that he's in.<br /><br />this movie was dead on arrival. there is no life here. no fun. no intelligence. there are plenty of other \"dumb\" comedies more enjoyable that this one. this film is just pathetic. <br /><br />2/10  \\\n",
       "neg                                                  0.2780                                                                                                                                                                                                                                                                                                                                                                                                                                                                                                                                                                                                                                                                                                                                \n",
       "neu                                                  0.5730                                                                                                                                                                                                                                                                                                                                                                                                                                                                                                                                                                                                                                                                                                                                \n",
       "pos                                                  0.1490                                                                                                                                                                                                                                                                                                                                                                                                                                                                                                                                                                                                                                                                                                                                \n",
       "compound                                            -0.9708                                                                                                                                                                                                                                                                                                                                                                                                                                                                                                                                                                                                                                                                                                                                \n",
       "\n",
       "          i thought this movie did a down right good job. it wasn't as creative or original as the first, but who was expecting it to be. it was a whole lotta fun. the more i think about it the more i like it, and when it comes out on dvd i'm going to pay the money for it very proudly, every last cent. sharon stone is great, she always is, even if her movie is horrible(catwoman), but this movie isn't, this is one of those movies that will be underrated for its lifetime, and it will probably become a classic in like 20 yrs. don't wait for it to be a classic, watch it now and enjoy it. don't expect a masterpiece, or something thats gripping and soul touching, just allow yourself to get out of your life and get yourself involved in theirs.<br /><br />all in all, this movie is entertaining and i recommend people who haven't seen it see it, because what the critics and box office say doesn't always count, see it for yourself, you never know, you might just enjoy it. i tip my hat to this movie<br /><br />8/10  \\\n",
       "neg                                                   0.047                                                                                                                                                                                                                                                                                                                                                                                                                                                                                                                                                                                                                                                                                                                                                                                                                                                                                                                                                                                                  \n",
       "neu                                                   0.753                                                                                                                                                                                                                                                                                                                                                                                                                                                                                                                                                                                                                                                                                                                                                                                                                                                                                                                                                                                                  \n",
       "pos                                                   0.199                                                                                                                                                                                                                                                                                                                                                                                                                                                                                                                                                                                                                                                                                                                                                                                                                                                                                                                                                                                                  \n",
       "compound                                              0.989                                                                                                                                                                                                                                                                                                                                                                                                                                                                                                                                                                                                                                                                                                                                                                                                                                                                                                                                                                                                  \n",
       "\n",
       "          bad plot, bad dialogue, bad acting, idiotic directing, the annoying porn groove soundtrack that ran continually over the overacted script, and a crappy copy of the vhs cannot be redeemed by consuming liquor. trust me, because i stuck this turkey out to the end. it was so pathetically bad all over that i had to figure it was a fourth-rate spoof of springtime for hitler.<br /><br />the girl who played janis joplin was the only faint spark of interest, and that was only because she could sing better than the original.<br /><br />if you want to watch something similar but a thousand times better, then watch beyond the valley of the dolls.  \\\n",
       "neg                                                  0.1660                                                                                                                                                                                                                                                                                                                                                                                                                                                                                                                                                                                                                    \n",
       "neu                                                  0.7200                                                                                                                                                                                                                                                                                                                                                                                                                                                                                                                                                                                                                    \n",
       "pos                                                  0.1140                                                                                                                                                                                                                                                                                                                                                                                                                                                                                                                                                                                                                    \n",
       "compound                                            -0.6693                                                                                                                                                                                                                                                                                                                                                                                                                                                                                                                                                                                                                    \n",
       "\n",
       "          i am a catholic taught in parochial elementary schools by nuns, taught by jesuit priests in high school & college. i am still a practicing catholic but would not be considered a \"good catholic\" in the church's eyes because i don't believe certain things or act certain ways just because the church tells me to.<br /><br />so back to the movie...its bad because two people are killed by this nun who is supposed to be a satire as the embodiment of a female religious figurehead. there is no comedy in that and the satire is not done well by the over acting of diane keaton. i never saw the play but if it was very different from this movies then it may be good.<br /><br />at first i thought the gun might be a fake and the first shooting all a plan by the female lead of the four former students as an attempt to demonstrate sister mary's emotional and intellectual bigotry of faith. but it turns out the bullets were real and the story has tragedy...the tragedy of loss of life (besides the two former students...the lives of the aborted babies, the life of the student's mom), the tragedy of dogmatic authority over love of people, the tragedy of organized religion replacing true faith in god. this is what is wrong with today's islam, and yesterday's judaism and christianity.  \\\n",
       "neg                                                  0.2080                                                                                                                                                                                                                                                                                                                                                                                                                                                                                                                                                                                                                                                                                                                                                                                                                                                                                                                                                                                                                                                                                                                                                                                                                                                                                  \n",
       "neu                                                  0.6830                                                                                                                                                                                                                                                                                                                                                                                                                                                                                                                                                                                                                                                                                                                                                                                                                                                                                                                                                                                                                                                                                                                                                                                                                                                                                  \n",
       "pos                                                  0.1080                                                                                                                                                                                                                                                                                                                                                                                                                                                                                                                                                                                                                                                                                                                                                                                                                                                                                                                                                                                                                                                                                                                                                                                                                                                                                  \n",
       "compound                                            -0.9851                                                                                                                                                                                                                                                                                                                                                                                                                                                                                                                                                                                                                                                                                                                                                                                                                                                                                                                                                                                                                                                                                                                                                                                                                                                                                  \n",
       "\n",
       "          i'm going to have to disagree with the previous comment and side with maltin on this one. this is a second rate, excessively vicious western that creaks and groans trying to put across its central theme of the wild west being tamed and kicked aside by the steady march of time. it would like to be in the tradition of \"butch cassidy and the sundance kid\", but lacks that film's poignancy and charm. andrew mclaglen's direction is limp, and the final 30 minutes or so are a real botch, with some incomprehensible strategy on the part of heroes charlton heston and chris mitchum. (someone give me a holler if you can explain to me why they set that hillside on fire.) there was something callous about the whole treatment of the rape scene, and the woman's reaction afterwards certainly did not ring true. coburn is plenty nasty as the half breed escaped convict out for revenge, but all of his fellow escapees are underdeveloped (they're like bowling pins to be knocked down one by one as the story lurches forward). michael parks gives one of his typically shifty, lethargic, mumbling performances, but in this case it was appropriate as his modern style sheriff symbolizes the complacency that technological progress can bring about.  \\\n",
       "neg                                                  0.1050                                                                                                                                                                                                                                                                                                                                                                                                                                                                                                                                                                                                                                                                                                                                                                                                                                                                                                                                                                                                                                                                                                                                                                                                                                    \n",
       "neu                                                  0.8130                                                                                                                                                                                                                                                                                                                                                                                                                                                                                                                                                                                                                                                                                                                                                                                                                                                                                                                                                                                                                                                                                                                                                                                                                                    \n",
       "pos                                                  0.0820                                                                                                                                                                                                                                                                                                                                                                                                                                                                                                                                                                                                                                                                                                                                                                                                                                                                                                                                                                                                                                                                                                                                                                                                                                    \n",
       "compound                                            -0.7648                                                                                                                                                                                                                                                                                                                                                                                                                                                                                                                                                                                                                                                                                                                                                                                                                                                                                                                                                                                                                                                                                                                                                                                                                                    \n",
       "\n",
       "          no one expects the star trek movies to be high art, but the fans do expect a movie that is as good as some of the best episodes. unfortunately, this movie had a muddled, implausible plot that just left me cringing - this is by far the worst of the nine (so far) movies. even the chance to watch the well known s interact in another movie can't save this movie - including the goofy scenes with kirk, spock and mccoy at yosemite.<br /><br />i would say this movie is not worth a rental, and hardly worth watching, however for the true fan who needs to see all the movies, renting this movie is about the only way you'll see it - even the cable channels avoid this movie.  \n",
       "neg                                                  0.1360                                                                                                                                                                                                                                                                                                                                                                                                                                                                                                                                                                                                                                              \n",
       "neu                                                  0.7220                                                                                                                                                                                                                                                                                                                                                                                                                                                                                                                                                                                                                                              \n",
       "pos                                                  0.1420                                                                                                                                                                                                                                                                                                                                                                                                                                                                                                                                                                                                                                              \n",
       "compound                                             0.4329                                                                                                                                                                                                                                                                                                                                                                                                                                                                                                                                                                                                                                              \n",
       "\n",
       "[4 rows x 49582 columns]"
      ]
     },
     "execution_count": 19,
     "metadata": {},
     "output_type": "execute_result"
    }
   ],
   "source": [
    "vaders=pd.DataFrame(res)\n",
    "vaders"
   ]
  },
  {
   "cell_type": "code",
   "execution_count": 20,
   "id": "9fede8f1",
   "metadata": {},
   "outputs": [],
   "source": [
    "from sklearn.feature_extraction.text import TfidfVectorizer\n",
    "\n",
    "tfidf = TfidfVectorizer(strip_accents=None, \n",
    "                        lowercase=False,\n",
    "                        preprocessor=None)\n",
    "\n",
    "X = tfidf.fit_transform(df['review'])"
   ]
  },
  {
   "cell_type": "code",
   "execution_count": 21,
   "id": "7d14427a",
   "metadata": {},
   "outputs": [],
   "source": [
    "from sklearn.model_selection import train_test_split\n",
    "y = df['sentiment'] # target variable\n",
    "X_train, X_test, y_train, y_test = train_test_split(X,y, test_size=0.3,random_state=109)"
   ]
  },
  {
   "cell_type": "code",
   "execution_count": 5,
   "id": "9924eb31",
   "metadata": {},
   "outputs": [],
   "source": [
    "from sklearn.ensemble import RandomForestClassifier\n",
    "from sklearn.metrics import accuracy_score, confusion_matrix, precision_score, recall_score, ConfusionMatrixDisplay\n",
    "from sklearn.model_selection import RandomizedSearchCV, train_test_split\n",
    "from scipy.stats import randint"
   ]
  },
  {
   "cell_type": "code",
   "execution_count": 6,
   "id": "077e5970",
   "metadata": {},
   "outputs": [
    {
     "data": {
      "text/html": [
       "<style>#sk-container-id-1 {color: black;background-color: white;}#sk-container-id-1 pre{padding: 0;}#sk-container-id-1 div.sk-toggleable {background-color: white;}#sk-container-id-1 label.sk-toggleable__label {cursor: pointer;display: block;width: 100%;margin-bottom: 0;padding: 0.3em;box-sizing: border-box;text-align: center;}#sk-container-id-1 label.sk-toggleable__label-arrow:before {content: \"▸\";float: left;margin-right: 0.25em;color: #696969;}#sk-container-id-1 label.sk-toggleable__label-arrow:hover:before {color: black;}#sk-container-id-1 div.sk-estimator:hover label.sk-toggleable__label-arrow:before {color: black;}#sk-container-id-1 div.sk-toggleable__content {max-height: 0;max-width: 0;overflow: hidden;text-align: left;background-color: #f0f8ff;}#sk-container-id-1 div.sk-toggleable__content pre {margin: 0.2em;color: black;border-radius: 0.25em;background-color: #f0f8ff;}#sk-container-id-1 input.sk-toggleable__control:checked~div.sk-toggleable__content {max-height: 200px;max-width: 100%;overflow: auto;}#sk-container-id-1 input.sk-toggleable__control:checked~label.sk-toggleable__label-arrow:before {content: \"▾\";}#sk-container-id-1 div.sk-estimator input.sk-toggleable__control:checked~label.sk-toggleable__label {background-color: #d4ebff;}#sk-container-id-1 div.sk-label input.sk-toggleable__control:checked~label.sk-toggleable__label {background-color: #d4ebff;}#sk-container-id-1 input.sk-hidden--visually {border: 0;clip: rect(1px 1px 1px 1px);clip: rect(1px, 1px, 1px, 1px);height: 1px;margin: -1px;overflow: hidden;padding: 0;position: absolute;width: 1px;}#sk-container-id-1 div.sk-estimator {font-family: monospace;background-color: #f0f8ff;border: 1px dotted black;border-radius: 0.25em;box-sizing: border-box;margin-bottom: 0.5em;}#sk-container-id-1 div.sk-estimator:hover {background-color: #d4ebff;}#sk-container-id-1 div.sk-parallel-item::after {content: \"\";width: 100%;border-bottom: 1px solid gray;flex-grow: 1;}#sk-container-id-1 div.sk-label:hover label.sk-toggleable__label {background-color: #d4ebff;}#sk-container-id-1 div.sk-serial::before {content: \"\";position: absolute;border-left: 1px solid gray;box-sizing: border-box;top: 0;bottom: 0;left: 50%;z-index: 0;}#sk-container-id-1 div.sk-serial {display: flex;flex-direction: column;align-items: center;background-color: white;padding-right: 0.2em;padding-left: 0.2em;position: relative;}#sk-container-id-1 div.sk-item {position: relative;z-index: 1;}#sk-container-id-1 div.sk-parallel {display: flex;align-items: stretch;justify-content: center;background-color: white;position: relative;}#sk-container-id-1 div.sk-item::before, #sk-container-id-1 div.sk-parallel-item::before {content: \"\";position: absolute;border-left: 1px solid gray;box-sizing: border-box;top: 0;bottom: 0;left: 50%;z-index: -1;}#sk-container-id-1 div.sk-parallel-item {display: flex;flex-direction: column;z-index: 1;position: relative;background-color: white;}#sk-container-id-1 div.sk-parallel-item:first-child::after {align-self: flex-end;width: 50%;}#sk-container-id-1 div.sk-parallel-item:last-child::after {align-self: flex-start;width: 50%;}#sk-container-id-1 div.sk-parallel-item:only-child::after {width: 0;}#sk-container-id-1 div.sk-dashed-wrapped {border: 1px dashed gray;margin: 0 0.4em 0.5em 0.4em;box-sizing: border-box;padding-bottom: 0.4em;background-color: white;}#sk-container-id-1 div.sk-label label {font-family: monospace;font-weight: bold;display: inline-block;line-height: 1.2em;}#sk-container-id-1 div.sk-label-container {text-align: center;}#sk-container-id-1 div.sk-container {/* jupyter's `normalize.less` sets `[hidden] { display: none; }` but bootstrap.min.css set `[hidden] { display: none !important; }` so we also need the `!important` here to be able to override the default hidden behavior on the sphinx rendered scikit-learn.org. See: https://github.com/scikit-learn/scikit-learn/issues/21755 */display: inline-block !important;position: relative;}#sk-container-id-1 div.sk-text-repr-fallback {display: none;}</style><div id=\"sk-container-id-1\" class=\"sk-top-container\"><div class=\"sk-text-repr-fallback\"><pre>RandomForestClassifier()</pre><b>In a Jupyter environment, please rerun this cell to show the HTML representation or trust the notebook. <br />On GitHub, the HTML representation is unable to render, please try loading this page with nbviewer.org.</b></div><div class=\"sk-container\" hidden><div class=\"sk-item\"><div class=\"sk-estimator sk-toggleable\"><input class=\"sk-toggleable__control sk-hidden--visually\" id=\"sk-estimator-id-1\" type=\"checkbox\" checked><label for=\"sk-estimator-id-1\" class=\"sk-toggleable__label sk-toggleable__label-arrow\">RandomForestClassifier</label><div class=\"sk-toggleable__content\"><pre>RandomForestClassifier()</pre></div></div></div></div></div>"
      ],
      "text/plain": [
       "RandomForestClassifier()"
      ]
     },
     "execution_count": 6,
     "metadata": {},
     "output_type": "execute_result"
    }
   ],
   "source": [
    "rf = RandomForestClassifier()\n",
    "rf.fit(X_train, y_train)"
   ]
  },
  {
   "cell_type": "code",
   "execution_count": 7,
   "id": "97ecd024",
   "metadata": {},
   "outputs": [],
   "source": [
    "y_pred = rf.predict(X_test)"
   ]
  },
  {
   "cell_type": "code",
   "execution_count": 22,
   "id": "e2045a6e",
   "metadata": {},
   "outputs": [
    {
     "name": "stdout",
     "output_type": "stream",
     "text": [
      "              precision    recall  f1-score   support\n",
      "\n",
      "    negative       0.84      0.84      0.84      7458\n",
      "    positive       0.84      0.84      0.84      7542\n",
      "\n",
      "    accuracy                           0.84     15000\n",
      "   macro avg       0.84      0.84      0.84     15000\n",
      "weighted avg       0.84      0.84      0.84     15000\n",
      "\n"
     ]
    }
   ],
   "source": [
    "from sklearn.metrics import classification_report\n",
    "result=classification_report(y_test, y_pred)\n",
    "print(result)"
   ]
  },
  {
   "cell_type": "code",
   "execution_count": null,
   "id": "6507eead",
   "metadata": {},
   "outputs": [],
   "source": []
  }
 ],
 "metadata": {
  "kernelspec": {
   "display_name": "Python 3 (ipykernel)",
   "language": "python",
   "name": "python3"
  },
  "language_info": {
   "codemirror_mode": {
    "name": "ipython",
    "version": 3
   },
   "file_extension": ".py",
   "mimetype": "text/x-python",
   "name": "python",
   "nbconvert_exporter": "python",
   "pygments_lexer": "ipython3",
   "version": "3.9.7"
  }
 },
 "nbformat": 4,
 "nbformat_minor": 5
}
